{
 "cells": [
  {
   "cell_type": "markdown",
   "id": "0a1688a7",
   "metadata": {},
   "source": [
    "1) In python 3.X, What are the name & function of string object types ?\n",
    "\n",
    ":- rstrip() , split() , splitlines()"
   ]
  },
  {
   "cell_type": "markdown",
   "id": "a9fc3460",
   "metadata": {},
   "source": [
    "2) How do the string forms in Python 3.X vary in terms of operations ?\n",
    "\n",
    ":- len() The len() function returns the length of a string.\n",
    "   str() This function converts any data type into a string.\n",
    "   lower() & upper()"
   ]
  },
  {
   "cell_type": "markdown",
   "id": "7c9e5f69",
   "metadata": {},
   "source": [
    "3) In 3.X, how do you put non-ASCII Unicode characters in a string ?\n",
    "\n",
    ":- It requries explicit encoding & decoding of the string in unicode"
   ]
  },
  {
   "cell_type": "markdown",
   "id": "65ecde62",
   "metadata": {},
   "source": [
    "4) In Python 3.X, what are the key differences between text-mode and binary-mode files ?\n",
    "\n",
    ":- Text file also stores data in sequential bytes but bits in text file represent characters."
   ]
  },
  {
   "cell_type": "markdown",
   "id": "919a5579",
   "metadata": {},
   "source": [
    "5) How can you interpret a Unicode text file containing text encoded in a different encoding than\n",
    "   your platform's default?\n",
    "   \n",
    ":- By using encoding & decoding we can interpret a unicode text file in different encoding platform"
   ]
  },
  {
   "cell_type": "markdown",
   "id": "f77f3ddb",
   "metadata": {},
   "source": [
    "6) What is the best way to make a Unicode text file in a particular encoding format ?\n",
    "\n",
    ":- Normal open() and encode the unicode by yourself"
   ]
  },
  {
   "cell_type": "markdown",
   "id": "e1f56561",
   "metadata": {},
   "source": [
    "7) What qualifies ASCII text as a form of Unicode text ?\n",
    "\n",
    ":- Unicode is superset of ASCII. UTF-8 & UCS-2"
   ]
  }
 ],
 "metadata": {
  "kernelspec": {
   "display_name": "Python 3 (ipykernel)",
   "language": "python",
   "name": "python3"
  },
  "language_info": {
   "codemirror_mode": {
    "name": "ipython",
    "version": 3
   },
   "file_extension": ".py",
   "mimetype": "text/x-python",
   "name": "python",
   "nbconvert_exporter": "python",
   "pygments_lexer": "ipython3",
   "version": "3.9.7"
  }
 },
 "nbformat": 4,
 "nbformat_minor": 5
}
